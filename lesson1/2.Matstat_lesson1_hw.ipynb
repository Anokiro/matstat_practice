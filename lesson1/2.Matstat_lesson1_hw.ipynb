{
 "cells": [
  {
   "cell_type": "markdown",
   "metadata": {},
   "source": [
    "## Урок 1"
   ]
  },
  {
   "cell_type": "markdown",
   "metadata": {},
   "source": [
    "### Тема “Случайные события. Условная вероятность. Формула Байеса.  Независимые испытания”"
   ]
  },
  {
   "cell_type": "markdown",
   "metadata": {},
   "source": [
    "### 1. Из колоды в 52 карты извлекаются случайным образом 4 карты. \n",
    "\n",
    "#### a) Найти вероятность того, что все карты – крести. "
   ]
  },
  {
   "cell_type": "code",
   "execution_count": 6,
   "metadata": {},
   "outputs": [],
   "source": [
    "from math import factorial\n",
    "import numpy as np\n",
    "def def_combinations(n, k):\n",
    "    return int(factorial(n) / (factorial(k) * factorial(n - k)))"
   ]
  },
  {
   "cell_type": "code",
   "execution_count": 7,
   "metadata": {},
   "outputs": [
    {
     "data": {
      "text/plain": [
       "715"
      ]
     },
     "execution_count": 7,
     "metadata": {},
     "output_type": "execute_result"
    }
   ],
   "source": [
    "# Рассчитаем число благоприятствующих исходов\n",
    "blag_event = def_combinations(13, 4)\n",
    "blag_event"
   ]
  },
  {
   "cell_type": "code",
   "execution_count": 8,
   "metadata": {},
   "outputs": [
    {
     "data": {
      "text/plain": [
       "715"
      ]
     },
     "execution_count": 8,
     "metadata": {},
     "output_type": "execute_result"
    }
   ],
   "source": [
    "from itertools import combinations\n",
    "x = np.arange(1, 14)\n",
    "len(list(combinations(x, 4)))"
   ]
  },
  {
   "cell_type": "code",
   "execution_count": 9,
   "metadata": {},
   "outputs": [
    {
     "data": {
      "text/plain": [
       "270725"
      ]
     },
     "execution_count": 9,
     "metadata": {},
     "output_type": "execute_result"
    }
   ],
   "source": [
    "# Рассчитаем общее число исходов\n",
    "all_event = def_combinations(52, 4)\n",
    "all_event"
   ]
  },
  {
   "cell_type": "code",
   "execution_count": 10,
   "metadata": {},
   "outputs": [
    {
     "name": "stdout",
     "output_type": "stream",
     "text": [
      "Вероятность составляет(%) 0.26\n"
     ]
    }
   ],
   "source": [
    "# Рассчитаем вероятность: разделим число благоприятствующих исходов на общее кол-во исходов, получим окончательный ответ.\n",
    "print(f\"Вероятность составляет(%) {round(blag_event / all_event * 100, 2)}\")"
   ]
  },
  {
   "cell_type": "markdown",
   "metadata": {},
   "source": [
    "#### б) Найти вероятность, что среди 4-х карт окажется хотя бы один туз."
   ]
  },
  {
   "cell_type": "code",
   "execution_count": 11,
   "metadata": {},
   "outputs": [
    {
     "data": {
      "text/plain": [
       "4"
      ]
     },
     "execution_count": 11,
     "metadata": {},
     "output_type": "execute_result"
    }
   ],
   "source": [
    "# Найдем кол-во комбинаций с 1 тузом из 4 карт\n",
    "blag_event2_1 = def_combinations(4, 1)\n",
    "blag_event2_1"
   ]
  },
  {
   "cell_type": "code",
   "execution_count": 12,
   "metadata": {},
   "outputs": [
    {
     "data": {
      "text/plain": [
       "17296"
      ]
     },
     "execution_count": 12,
     "metadata": {},
     "output_type": "execute_result"
    }
   ],
   "source": [
    "# Найдем кол-во комбинаций не тузов\n",
    "blag_event2_2 = def_combinations(48, 3)\n",
    "blag_event2_2"
   ]
  },
  {
   "cell_type": "code",
   "execution_count": 13,
   "metadata": {},
   "outputs": [
    {
     "data": {
      "text/plain": [
       "69184"
      ]
     },
     "execution_count": 13,
     "metadata": {},
     "output_type": "execute_result"
    }
   ],
   "source": [
    "# Найдем общее число благоприятствующих исходов\n",
    "subtotal1 = blag_event2_1 * blag_event2_2\n",
    "subtotal1"
   ]
  },
  {
   "cell_type": "code",
   "execution_count": 14,
   "metadata": {},
   "outputs": [
    {
     "name": "stdout",
     "output_type": "stream",
     "text": [
      "6\n",
      "1128\n"
     ]
    },
    {
     "data": {
      "text/plain": [
       "6768"
      ]
     },
     "execution_count": 14,
     "metadata": {},
     "output_type": "execute_result"
    }
   ],
   "source": [
    "# Проделаем то же самое для 2 тузов\n",
    "blag_event2_3 = def_combinations(4, 2)\n",
    "print(blag_event2_3)\n",
    "blag_event2_4 = def_combinations(48, 2)\n",
    "print(blag_event2_4)\n",
    "subtotal2 = blag_event2_3 * blag_event2_4\n",
    "subtotal2"
   ]
  },
  {
   "cell_type": "code",
   "execution_count": 15,
   "metadata": {},
   "outputs": [
    {
     "name": "stdout",
     "output_type": "stream",
     "text": [
      "4\n",
      "48\n"
     ]
    },
    {
     "data": {
      "text/plain": [
       "192"
      ]
     },
     "execution_count": 15,
     "metadata": {},
     "output_type": "execute_result"
    }
   ],
   "source": [
    "# Проделаем то же самое для 3 тузов\n",
    "blag_event2_5 = def_combinations(4, 3)\n",
    "print(blag_event2_5)\n",
    "blag_event2_6 = def_combinations(48, 1)\n",
    "print(blag_event2_6)\n",
    "subtotal3 = blag_event2_5 * blag_event2_6\n",
    "subtotal3"
   ]
  },
  {
   "cell_type": "code",
   "execution_count": 16,
   "metadata": {},
   "outputs": [
    {
     "name": "stdout",
     "output_type": "stream",
     "text": [
      "1\n",
      "1\n"
     ]
    },
    {
     "data": {
      "text/plain": [
       "1"
      ]
     },
     "execution_count": 16,
     "metadata": {},
     "output_type": "execute_result"
    }
   ],
   "source": [
    "# Проделаем то же самое для 4 тузов\n",
    "blag_event2_7 = def_combinations(4, 4)\n",
    "print(blag_event2_7)\n",
    "blag_event2_8 = def_combinations(48, 0)\n",
    "print(blag_event2_8)\n",
    "subtotal4 = blag_event2_7 * blag_event2_8\n",
    "subtotal4"
   ]
  },
  {
   "cell_type": "code",
   "execution_count": 17,
   "metadata": {},
   "outputs": [
    {
     "name": "stdout",
     "output_type": "stream",
     "text": [
      "Вероятность вытащить хотя бы 1 туз составляет(%) 28.13\n"
     ]
    }
   ],
   "source": [
    "# Теперь сложим все благоприятные исходы и разделим на общее кол-во исходов, получим окончательный ответ.\n",
    "print(f\"Вероятность вытащить хотя бы 1 туз составляет(%) {round((subtotal1 + subtotal2 + subtotal3 + subtotal4) / all_event * 100, 2)}\")"
   ]
  },
  {
   "cell_type": "markdown",
   "metadata": {},
   "source": [
    "### 2. На входной двери подъезда установлен кодовый замок, содержащий десять кнопок с цифрами от 0 до 9. Код содержит три цифры, которые нужно нажать одновременно. Какова вероятность того, что человек, не знающий код, откроет дверь с первой попытки?"
   ]
  },
  {
   "cell_type": "code",
   "execution_count": 18,
   "metadata": {},
   "outputs": [
    {
     "data": {
      "text/plain": [
       "120"
      ]
     },
     "execution_count": 18,
     "metadata": {},
     "output_type": "execute_result"
    }
   ],
   "source": [
    "# Найдем кол-во комбинаций\n",
    "event = def_combinations(10, 3)\n",
    "event"
   ]
  },
  {
   "cell_type": "code",
   "execution_count": 19,
   "metadata": {},
   "outputs": [
    {
     "name": "stdout",
     "output_type": "stream",
     "text": [
      "Вероятность нажать 3 кнопки сразу правильно составляет(%)  0.83\n"
     ]
    }
   ],
   "source": [
    "# разделим 1(1 попытка) на общее кол-во исходов, получим окончательный ответ.\n",
    "print(f\"Вероятность нажать 3 кнопки сразу правильно составляет(%)  {round((1 / 120 ) * 100, 2)}\")"
   ]
  },
  {
   "cell_type": "markdown",
   "metadata": {},
   "source": [
    "### 3.В ящике имеется 15 деталей, из которых 9 окрашены. Рабочий случайным образом извлекает 3 детали. Какова вероятность того, что все извлеченные детали окрашены?"
   ]
  },
  {
   "cell_type": "code",
   "execution_count": 20,
   "metadata": {},
   "outputs": [
    {
     "data": {
      "text/plain": [
       "84"
      ]
     },
     "execution_count": 20,
     "metadata": {},
     "output_type": "execute_result"
    }
   ],
   "source": [
    "# Найдем кол-во комбинаций\n",
    "event2 = def_combinations(9, 3)\n",
    "event2"
   ]
  },
  {
   "cell_type": "code",
   "execution_count": 21,
   "metadata": {},
   "outputs": [
    {
     "data": {
      "text/plain": [
       "455"
      ]
     },
     "execution_count": 21,
     "metadata": {},
     "output_type": "execute_result"
    }
   ],
   "source": [
    "# Найдем общее число исходов\n",
    "event3 = def_combinations(15, 3)\n",
    "event3"
   ]
  },
  {
   "cell_type": "code",
   "execution_count": 22,
   "metadata": {},
   "outputs": [
    {
     "name": "stdout",
     "output_type": "stream",
     "text": [
      "Вероятность вытащить все 3 окрашенные детали составляет(%) 18.46\n"
     ]
    }
   ],
   "source": [
    "print(f\"Вероятность вытащить все 3 окрашенные детали составляет(%) {round((event2 / event3) * 100, 2)}\")"
   ]
  },
  {
   "cell_type": "markdown",
   "metadata": {},
   "source": [
    "### 4.В лотерее 100 билетов. Из них 2 выигрышных. Какова вероятность того, что 2 приобретенных билета окажутся выигрышными?"
   ]
  },
  {
   "cell_type": "code",
   "execution_count": 23,
   "metadata": {},
   "outputs": [
    {
     "data": {
      "text/plain": [
       "4950"
      ]
     },
     "execution_count": 23,
     "metadata": {},
     "output_type": "execute_result"
    }
   ],
   "source": [
    "lotery0 = def_combinations(100, 2)\n",
    "lotery0 "
   ]
  },
  {
   "cell_type": "code",
   "execution_count": 24,
   "metadata": {},
   "outputs": [
    {
     "name": "stdout",
     "output_type": "stream",
     "text": [
      "Вероятность вытащить сразу 2 выйгрышных билета составляет(%) 0.02\n"
     ]
    }
   ],
   "source": [
    "print(f\"Вероятность вытащить сразу 2 выйгрышных билета составляет(%) {round((1 / lotery0) * 100, 2)}\")"
   ]
  },
  {
   "cell_type": "code",
   "execution_count": 26,
   "metadata": {},
   "outputs": [
    {
     "name": "stdout",
     "output_type": "stream",
     "text": [
      "2\n",
      "98\n"
     ]
    },
    {
     "data": {
      "text/plain": [
       "3.96"
      ]
     },
     "execution_count": 26,
     "metadata": {},
     "output_type": "execute_result"
    }
   ],
   "source": [
    "# А что если 1 из 2 выйгрышный?\n",
    "lotery = def_combinations(2, 1)\n",
    "print(lotery)\n",
    "lotery2 = def_combinations(98, 1)\n",
    "print(lotery2)\n",
    "round(((lotery * lotery2) / lotery0 ) * 100, 2)"
   ]
  },
  {
   "cell_type": "code",
   "execution_count": null,
   "metadata": {},
   "outputs": [],
   "source": []
  }
 ],
 "metadata": {
  "kernelspec": {
   "display_name": "Python 3",
   "language": "python",
   "name": "python3"
  },
  "language_info": {
   "codemirror_mode": {
    "name": "ipython",
    "version": 3
   },
   "file_extension": ".py",
   "mimetype": "text/x-python",
   "name": "python",
   "nbconvert_exporter": "python",
   "pygments_lexer": "ipython3",
   "version": "3.7.6"
  }
 },
 "nbformat": 4,
 "nbformat_minor": 4
}
