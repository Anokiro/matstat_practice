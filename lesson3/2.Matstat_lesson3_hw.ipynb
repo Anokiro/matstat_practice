{
 "cells": [
  {
   "cell_type": "markdown",
   "metadata": {},
   "source": [
    "## Урок 3"
   ]
  },
  {
   "cell_type": "markdown",
   "metadata": {},
   "source": [
    "### Описательная статистика. Качественные и количественные характеристики популяции. \n",
    "\n",
    "### Графическое представление данных"
   ]
  },
  {
   "cell_type": "markdown",
   "metadata": {},
   "source": [
    "#### 1. Даны значения зарплат из выборки выпускников: 100, 80, 75, 77, 89, 33, 45, 25, 65, 17, 30, 24, 57, 55, 70, 75, 65, 84, 90, 150. Посчитать (желательно без использования статистических методов наподобие std, var, mean) среднее арифметическое, среднее квадратичное отклонение, смещенную и несмещенную оценки дисперсий для данной выборки."
   ]
  },
  {
   "cell_type": "code",
   "execution_count": 2,
   "metadata": {},
   "outputs": [],
   "source": [
    "import numpy as np\n",
    "my_list = [100, 80, 75, 77, 89, 33, 45, 25, 65, 17, 30, 24, 57, 55, 70, 75, 65, 84, 90, 150]"
   ]
  },
  {
   "cell_type": "code",
   "execution_count": 3,
   "metadata": {},
   "outputs": [
    {
     "data": {
      "text/plain": [
       "65.3"
      ]
     },
     "execution_count": 3,
     "metadata": {},
     "output_type": "execute_result"
    }
   ],
   "source": [
    "# Среднее арифметическое\n",
    "mean_numb = sum(my_list) / len(my_list)\n",
    "mean_numb"
   ]
  },
  {
   "cell_type": "code",
   "execution_count": 4,
   "metadata": {},
   "outputs": [
    {
     "data": {
      "text/plain": [
       "65.3"
      ]
     },
     "execution_count": 4,
     "metadata": {},
     "output_type": "execute_result"
    }
   ],
   "source": [
    "np.mean(my_list)"
   ]
  },
  {
   "cell_type": "code",
   "execution_count": 5,
   "metadata": {},
   "outputs": [
    {
     "data": {
      "text/plain": [
       "30.823854398825596"
      ]
     },
     "execution_count": 5,
     "metadata": {},
     "output_type": "execute_result"
    }
   ],
   "source": [
    "# Среднее квадратичное отклонение\n",
    "loc_list = []\n",
    "for iter_item in my_list:\n",
    "    loc_list.append((iter_item - mean_numb) ** 2)\n",
    "np.sqrt(sum(loc_list) / len(my_list))"
   ]
  },
  {
   "cell_type": "code",
   "execution_count": 6,
   "metadata": {
    "scrolled": true
   },
   "outputs": [
    {
     "data": {
      "text/plain": [
       "30.823854398825596"
      ]
     },
     "execution_count": 6,
     "metadata": {},
     "output_type": "execute_result"
    }
   ],
   "source": [
    "np.std(my_list)"
   ]
  },
  {
   "cell_type": "code",
   "execution_count": 7,
   "metadata": {},
   "outputs": [
    {
     "name": "stdout",
     "output_type": "stream",
     "text": [
      "Смещенная оценка дисперсии: 950.11\n",
      "Несмещенная оценка дисперсии: 1000.1157894736842\n"
     ]
    }
   ],
   "source": [
    "print(f\"Смещенная оценка дисперсии: {np.var(my_list)}\")\n",
    "print(f\"Несмещенная оценка дисперсии: {np.var(my_list, ddof=1)}\")"
   ]
  },
  {
   "cell_type": "markdown",
   "metadata": {},
   "source": [
    "#### 2. В первом ящике находится 8 мячей, из которых 5 - белые. Во втором ящике - 12 мячей, из которых 5 белых. Из первого ящика вытаскивают случайным образом два мяча, из второго - 4. Какова вероятность того, что 3 мяча белые?"
   ]
  },
  {
   "cell_type": "code",
   "execution_count": 8,
   "metadata": {},
   "outputs": [],
   "source": [
    "from math import factorial\n",
    "def def_combinations(n, k):\n",
    "    return int(factorial(n) / (factorial(k) * factorial(n - k)))"
   ]
  },
  {
   "cell_type": "code",
   "execution_count": 74,
   "metadata": {
    "scrolled": true
   },
   "outputs": [
    {
     "name": "stdout",
     "output_type": "stream",
     "text": [
      "0.12626262626262627\n",
      "0.22727272727272727\n",
      "0.01515151515151515\n",
      "Вероятность вытащить 3 белых мяча составляет(%): 37.0\n"
     ]
    }
   ],
   "source": [
    "# True True, True False False False\n",
    "result1 = (def_combinations(5, 2) * def_combinations(3, 0))  / def_combinations(8, 2)\n",
    "result2 = (def_combinations(5, 1) * def_combinations(7, 3)) / def_combinations(12, 4)\n",
    "subtotal1 = result1 * result2\n",
    "print(subtotal1)\n",
    "\n",
    "# True False, True True False False\n",
    "result3 = (def_combinations(5, 1) * def_combinations(3, 1)) / def_combinations(8, 2)\n",
    "result4 = (def_combinations(5, 2) * def_combinations(7, 2)) / def_combinations(12, 4)\n",
    "subtotal2 = result3 * result4\n",
    "print(subtotal2)\n",
    "\n",
    "# False False, True True True False\n",
    "result5 = (def_combinations(5, 0) * def_combinations(3, 2)) / def_combinations(8, 2)\n",
    "result6 = (def_combinations(5, 3) * def_combinations(7, 1)) / def_combinations(12, 4)\n",
    "subtotal3 = result5 * result6\n",
    "print(subtotal3)\n",
    "\n",
    "print(f\"Вероятность вытащить 3 белых мяча составляет(%): {round(subtotal1 + subtotal2 + subtotal3, 2) * 100}\")"
   ]
  },
  {
   "cell_type": "code",
   "execution_count": 73,
   "metadata": {},
   "outputs": [
    {
     "data": {
      "text/plain": [
       "0.1262626262626263"
      ]
     },
     "execution_count": 73,
     "metadata": {},
     "output_type": "execute_result"
    }
   ],
   "source": [
    "# 2 белых в первом, 1 белый во втором\n",
    "(5/8 * 4/7) * ((5/12 * 7/11 * 6/10 * 5/9) + (7/12 * 5/11 * 6/10 * 5/9) + (7/12 * 6/11 * 5/10 * 5/9) + (7/12 * 6/11 * 5/10 * 5/9))"
   ]
  },
  {
   "cell_type": "code",
   "execution_count": 80,
   "metadata": {},
   "outputs": [
    {
     "data": {
      "text/plain": [
       "0.22727272727272718"
      ]
     },
     "execution_count": 80,
     "metadata": {},
     "output_type": "execute_result"
    }
   ],
   "source": [
    "# 1 белый мяч в первом, 2 белых во втором\n",
    "((5/8 * 3/7) + (3/8 * 5/7)) * (5/12 * 4/11 * 7/10 * 6/9)* 6"
   ]
  },
  {
   "cell_type": "code",
   "execution_count": 83,
   "metadata": {},
   "outputs": [
    {
     "data": {
      "text/plain": [
       "0.01515151515151515"
      ]
     },
     "execution_count": 83,
     "metadata": {},
     "output_type": "execute_result"
    }
   ],
   "source": [
    "# 0 белых в первом, 3 белых во втором\n",
    "(3/8 * 2/7) * (5/12 * 4/11 * 3/10 * 7/9)*4"
   ]
  },
  {
   "cell_type": "markdown",
   "metadata": {},
   "source": [
    "#### 3. На соревновании по биатлону один из трех спортсменов стреляет и попадает в мишень. Вероятность попадания для первого спортсмена равна 0.9, для второго — 0.8, для третьего — 0.6. Найти вероятность того, что выстрел произведен: a). первым спортсменом б). вторым спортсменом в). третьим спортсменом."
   ]
  },
  {
   "cell_type": "code",
   "execution_count": 124,
   "metadata": {},
   "outputs": [
    {
     "name": "stdout",
     "output_type": "stream",
     "text": [
      "Вероятность, что выстрел произведен первым спортсменом: 39.130434782608695\n"
     ]
    }
   ],
   "source": [
    "print(f\"Вероятность, что выстрел произведен первым спортсменом(%): {1/3 * 0.9 / ((1 / 3 * 0.9) + (1 / 3 * 0.8) + (1 / 3 * 0.6)) * 100}\")"
   ]
  },
  {
   "cell_type": "code",
   "execution_count": 125,
   "metadata": {},
   "outputs": [
    {
     "name": "stdout",
     "output_type": "stream",
     "text": [
      "Вероятность, что выстрел произведен вторым спортсменом: 34.78260869565218\n"
     ]
    }
   ],
   "source": [
    "print(f\"Вероятность, что выстрел произведен вторым спортсменом(%): {1/3 * 0.8 / ((1 / 3 * 0.9) + (1 / 3 * 0.8) + (1 / 3 * 0.6)) * 100}\")"
   ]
  },
  {
   "cell_type": "code",
   "execution_count": 126,
   "metadata": {},
   "outputs": [
    {
     "name": "stdout",
     "output_type": "stream",
     "text": [
      "Вероятность, что выстрел произведен третьим спортсменом: 26.08695652173913\n"
     ]
    }
   ],
   "source": [
    "print(f\"Вероятность, что выстрел произведен третьим спортсменом(%): {1/3 * 0.6 / ((1 / 3 * 0.9) + (1 / 3 * 0.8) + (1 / 3 * 0.6)) * 100}\")"
   ]
  },
  {
   "cell_type": "markdown",
   "metadata": {},
   "source": [
    "#### 4. В университет на факультеты A и B поступило равное количество студентов, а на факультет C студентов поступило столько же, сколько на A и B вместе. Вероятность того, что студент факультета A сдаст первую сессию, равна 0.8. Для студента факультета B эта вероятность равна 0.7, а для студента факультета C - 0.9. Студент сдал первую сессию. Какова вероятность, что он учится: a). на факультете A б). на факультете B в). на факультете C?"
   ]
  },
  {
   "cell_type": "code",
   "execution_count": 134,
   "metadata": {},
   "outputs": [
    {
     "name": "stdout",
     "output_type": "stream",
     "text": [
      "Вероятность, что студент учится на факультете А(%): 24.242424242424246\n"
     ]
    }
   ],
   "source": [
    "print(f\"Вероятность, что студент учится на факультете А(%): {1/4 * 0.8 / ((1 / 4 * 0.8) + (1 / 4 * 0.7) + (1 / 2 * 0.9)) * 100}\")"
   ]
  },
  {
   "cell_type": "code",
   "execution_count": 135,
   "metadata": {},
   "outputs": [
    {
     "name": "stdout",
     "output_type": "stream",
     "text": [
      "Вероятность, что студент учится на факультете B(%): 21.21212121212121\n"
     ]
    }
   ],
   "source": [
    "print(f\"Вероятность, что студент учится на факультете B(%): {1/4 * 0.7 / ((1 / 4 * 0.8) + (1 / 4 * 0.7) + (1 / 2 * 0.9)) * 100}\")"
   ]
  },
  {
   "cell_type": "code",
   "execution_count": 136,
   "metadata": {},
   "outputs": [
    {
     "name": "stdout",
     "output_type": "stream",
     "text": [
      "Вероятность, что студент учится на факультете C(%): 54.545454545454554\n"
     ]
    }
   ],
   "source": [
    "print(f\"Вероятность, что студент учится на факультете C(%): {1/2 * 0.9 / ((1 / 4 * 0.8) + (1 / 4 * 0.7) + (1 / 2 * 0.9)) * 100}\")"
   ]
  },
  {
   "cell_type": "markdown",
   "metadata": {},
   "source": [
    "#### 5. Устройство состоит из трех деталей. Для первой детали вероятность выйти из строя в первый месяц равна 0.1, для второй - 0.2, для третьей - 0.25. Какова вероятность того, что в первый месяц выйдут из строя: а). все детали б). только две детали в). хотя бы одна деталь г). от одной до двух деталей?"
   ]
  },
  {
   "cell_type": "code",
   "execution_count": 137,
   "metadata": {},
   "outputs": [
    {
     "data": {
      "text/plain": [
       "0.005000000000000001"
      ]
     },
     "execution_count": 137,
     "metadata": {},
     "output_type": "execute_result"
    }
   ],
   "source": [
    "# Все детали вышли из строя\n",
    "0.1*0.2*0.25"
   ]
  },
  {
   "cell_type": "code",
   "execution_count": 146,
   "metadata": {},
   "outputs": [
    {
     "data": {
      "text/plain": [
       "0.08"
      ]
     },
     "execution_count": 146,
     "metadata": {},
     "output_type": "execute_result"
    }
   ],
   "source": [
    "# Только две детали вышли из строя\n",
    "\n",
    "# False, True, True\n",
    "a1 = 0.9 * 0.2 * 0.25\n",
    "\n",
    "# True, False, True\n",
    "a2 = 0.1 * 0.8 * 0.25\n",
    "\n",
    "# True, True, False\n",
    "a3 = 0.1 * 0.2 * 0.75\n",
    "\n",
    "tot1 = a1 + a2 + a3\n",
    "tot1"
   ]
  },
  {
   "cell_type": "code",
   "execution_count": 147,
   "metadata": {},
   "outputs": [
    {
     "data": {
      "text/plain": [
       "0.45999999999999996"
      ]
     },
     "execution_count": 147,
     "metadata": {},
     "output_type": "execute_result"
    }
   ],
   "source": [
    "# хотя бы одна деталь вышла из строя\n",
    "1 - (0.9 * 0.8 * 0.75)"
   ]
  },
  {
   "cell_type": "code",
   "execution_count": 151,
   "metadata": {},
   "outputs": [],
   "source": [
    "# от одной до двух деталей\n",
    "\n",
    "# Найдем 1 сломавшуюся деталь (2 сломавшиеся уже найдены)\n",
    "# True, False, False\n",
    "b1 = 0.1 * 0.8 * 0.75\n",
    "\n",
    "# False, True, False\n",
    "b2 = 0.9 * 0.2 * 0.75\n",
    "\n",
    "# False, False, True\n",
    "b3 = 0.9 * 0.8 * 0.25\n",
    "\n",
    "tot2 = b1 + b2 + b3"
   ]
  },
  {
   "cell_type": "code",
   "execution_count": 150,
   "metadata": {},
   "outputs": [
    {
     "data": {
      "text/plain": [
       "0.455"
      ]
     },
     "execution_count": 150,
     "metadata": {},
     "output_type": "execute_result"
    }
   ],
   "source": [
    "# От одной до двух деталей:\n",
    "tot1 + tot2"
   ]
  },
  {
   "cell_type": "code",
   "execution_count": null,
   "metadata": {},
   "outputs": [],
   "source": []
  }
 ],
 "metadata": {
  "kernelspec": {
   "display_name": "Python 3",
   "language": "python",
   "name": "python3"
  },
  "language_info": {
   "codemirror_mode": {
    "name": "ipython",
    "version": 3
   },
   "file_extension": ".py",
   "mimetype": "text/x-python",
   "name": "python",
   "nbconvert_exporter": "python",
   "pygments_lexer": "ipython3",
   "version": "3.7.6"
  }
 },
 "nbformat": 4,
 "nbformat_minor": 4
}
