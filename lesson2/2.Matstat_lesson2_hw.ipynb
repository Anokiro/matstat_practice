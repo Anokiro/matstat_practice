{
 "cells": [
  {
   "cell_type": "markdown",
   "metadata": {},
   "source": [
    "## Урок 2"
   ]
  },
  {
   "cell_type": "markdown",
   "metadata": {},
   "source": [
    "### Тема “Дискретные случайные величины. Закон распределения вероятностей. \n",
    "\n",
    "### Биномиальный закон распределения. Распределение Пуассона”"
   ]
  },
  {
   "cell_type": "markdown",
   "metadata": {},
   "source": [
    "### 1. Вероятность того, что стрелок попадет в мишень, выстрелив один раз, равна 0.8. Стрелок выстрелил 100 раз. Найдите вероятность того, что стрелок попадет в цель ровно 85 раз."
   ]
  },
  {
   "cell_type": "markdown",
   "metadata": {},
   "source": [
    "$$p(k=85) = C_n^kp^kq^{n-k} = C_{100}^{85}p^1q^2 = \\frac{100!}{85!(100-85)!} \\cdot 0.8^{85} \\cdot 0.2^{15} = 0.048$$"
   ]
  },
  {
   "cell_type": "code",
   "execution_count": 1,
   "metadata": {},
   "outputs": [],
   "source": [
    "from math import factorial\n",
    "import numpy as np\n",
    "def def_combinations(n, k):\n",
    "    return int(factorial(n) / (factorial(k) * factorial(n - k)))"
   ]
  },
  {
   "cell_type": "code",
   "execution_count": 24,
   "metadata": {},
   "outputs": [
    {
     "data": {
      "text/plain": [
       "0.048061793700746355"
      ]
     },
     "execution_count": 24,
     "metadata": {},
     "output_type": "execute_result"
    }
   ],
   "source": [
    "n = 100\n",
    "k = 85\n",
    "p = 0.8\n",
    "X1 = def_combinations(n, k) * (p ** k) * (1 - p) ** (n - k)\n",
    "X1"
   ]
  },
  {
   "cell_type": "code",
   "execution_count": 25,
   "metadata": {},
   "outputs": [
    {
     "name": "stdout",
     "output_type": "stream",
     "text": [
      "Вероятность, что стрелок попадет в цель 85 раз, составляет(%) 6.28\n"
     ]
    }
   ],
   "source": [
    "print(f\"Вероятность, что стрелок попадет в цель 85 раз, составляет(%) {round(X2 * 100, 2)}\")"
   ]
  },
  {
   "cell_type": "markdown",
   "metadata": {},
   "source": [
    "### 2. Вероятность того, что лампочка перегорит в течение первого дня эксплуатации, равна 0.0004. В жилом комплексе после ремонта в один день включили 5000 новых лампочек. Какова вероятность, что ни одна из них не перегорит в первый день? Какова вероятность, что перегорят ровно две?"
   ]
  },
  {
   "cell_type": "markdown",
   "metadata": {},
   "source": [
    "Применим формулу Пуассона $λ = np = 5000 \\cdot 0.0004 = 2$:"
   ]
  },
  {
   "cell_type": "markdown",
   "metadata": {},
   "source": [
    "$$P_{0} \\approx \\frac{\\lambda^m}{m!}e^{-\\lambda} \\approx \\frac{2^{0}}{0!}e^{-2} $$"
   ]
  },
  {
   "cell_type": "code",
   "execution_count": 4,
   "metadata": {},
   "outputs": [
    {
     "data": {
      "text/plain": [
       "13.53"
      ]
     },
     "execution_count": 4,
     "metadata": {},
     "output_type": "execute_result"
    }
   ],
   "source": [
    "n = 5000\n",
    "m = 0\n",
    "p = 0.0004\n",
    "lambda_ = n * p\n",
    "\n",
    "round((lambda_**m / np.math.factorial(m)) * np.exp(-lambda_) * 100, 2)"
   ]
  },
  {
   "cell_type": "code",
   "execution_count": 5,
   "metadata": {},
   "outputs": [
    {
     "data": {
      "text/plain": [
       "27.07"
      ]
     },
     "execution_count": 5,
     "metadata": {},
     "output_type": "execute_result"
    }
   ],
   "source": [
    "n = 5000\n",
    "m = 2\n",
    "p = 0.0004\n",
    "lambda_ = n * p\n",
    "\n",
    "round((lambda_**m / np.math.factorial(m)) * np.exp(-lambda_) * 100, 2)"
   ]
  },
  {
   "cell_type": "code",
   "execution_count": 6,
   "metadata": {},
   "outputs": [
    {
     "data": {
      "image/png": "[encoded data removed]",
      "text/plain": [
       "<Figure size 1080x432 with 1 Axes>"
      ]
     },
     "metadata": {
      "needs_background": "light"
     },
     "output_type": "display_data"
    }
   ],
   "source": [
    "import matplotlib.pyplot as plt\n",
    "n = 5000\n",
    "p = 0.0004\n",
    "mylist = [] \n",
    "for iter_item in range(0, 31):\n",
    "    m = iter_item\n",
    "    mylist.append(round((lambda_**m / np.math.factorial(m)) * np.exp(-lambda_) * 100, 2))\n",
    "\n",
    "plt.figure(figsize=(15, 6))\n",
    "plt.plot( np.arange(0, (len(mylist))), mylist )\n",
    "plt.xticks(np.arange(0, 30, 1))\n",
    "plt.grid()"
   ]
  },
  {
   "cell_type": "markdown",
   "metadata": {},
   "source": [
    "Вывод: вероятность, что ни одна лампочка не перегорит составляет 13.53%, что 2 перегорят 27.07%. При этом, вероятность, что перегорит одна лампочка и вероятность, что перегорят 2 лампочки, максимальные."
   ]
  },
  {
   "cell_type": "markdown",
   "metadata": {},
   "source": [
    "### 3. Монету подбросили 144 раза. Какова вероятность, что орел выпадет ровно 70 раз?"
   ]
  },
  {
   "cell_type": "code",
   "execution_count": 23,
   "metadata": {},
   "outputs": [
    {
     "name": "stdout",
     "output_type": "stream",
     "text": [
      "Вероятность, что выпадет 70 раз орел, составляет(%) 6.28\n"
     ]
    }
   ],
   "source": [
    "n = 144\n",
    "k = 70\n",
    "p = 0.5\n",
    "X2 = def_combinations(n, k) * (p ** k) * (1 - p) ** (n - k)\n",
    "X2\n",
    "print(f\"Вероятность, что выпадет 70 раз орел, составляет(%) {round(X2 * 100, 2)}\")"
   ]
  },
  {
   "cell_type": "markdown",
   "metadata": {},
   "source": [
    "### 4. В первом ящике находится 10 мячей, из которых 7 - белые. Во втором ящике - 11 мячей, из которых 9 белых. Из каждого ящика вытаскивают случайным образом по два мяча. Какова вероятность того, что все мячи белые? Какова вероятность того, что ровно два мяча белые? Какова вероятность того, что хотя бы один мяч белый?"
   ]
  },
  {
   "cell_type": "code",
   "execution_count": 8,
   "metadata": {},
   "outputs": [
    {
     "name": "stdout",
     "output_type": "stream",
     "text": [
      "21\n",
      "45\n"
     ]
    },
    {
     "data": {
      "text/plain": [
       "0.4666666666666667"
      ]
     },
     "execution_count": 8,
     "metadata": {},
     "output_type": "execute_result"
    }
   ],
   "source": [
    "# Все мячи белые, решение через сочетание(комбинаторика)\n",
    "event1_1 = def_combinations(7, 2)\n",
    "print(event1_1)\n",
    "event1_2 = def_combinations(10, 2)\n",
    "print(event1_2)\n",
    "action = event1_1 / event1_2 \n",
    "action"
   ]
  },
  {
   "cell_type": "code",
   "execution_count": 9,
   "metadata": {},
   "outputs": [
    {
     "name": "stdout",
     "output_type": "stream",
     "text": [
      "36\n",
      "55\n"
     ]
    },
    {
     "data": {
      "text/plain": [
       "0.6545454545454545"
      ]
     },
     "execution_count": 9,
     "metadata": {},
     "output_type": "execute_result"
    }
   ],
   "source": [
    "event2_1 = def_combinations(9, 2)\n",
    "print(event2_1)\n",
    "event2_2 = def_combinations(11, 2)\n",
    "print(event2_2)\n",
    "action2 = event2_1 / event2_2\n",
    "action2"
   ]
  },
  {
   "cell_type": "code",
   "execution_count": 10,
   "metadata": {},
   "outputs": [
    {
     "name": "stdout",
     "output_type": "stream",
     "text": [
      "Вероятность вытащить все белые мячи составляет(%) 30.55\n"
     ]
    }
   ],
   "source": [
    "print(f\"Вероятность вытащить все белые мячи составляет(%) { round(((action * action2) * 100), 2) }\")"
   ]
  },
  {
   "cell_type": "code",
   "execution_count": 11,
   "metadata": {},
   "outputs": [
    {
     "data": {
      "text/plain": [
       "30.545454545454543"
      ]
     },
     "execution_count": 11,
     "metadata": {},
     "output_type": "execute_result"
    }
   ],
   "source": [
    "# Все мячи белые, решение через условную вероятность\n",
    "( (7/10)*(6/9)*(9/11)*(8/10) ) * 100"
   ]
  },
  {
   "cell_type": "code",
   "execution_count": 13,
   "metadata": {},
   "outputs": [
    {
     "name": "stdout",
     "output_type": "stream",
     "text": [
      "7\n",
      "3\n",
      "0.4666666666666667\n",
      "9\n",
      "2\n",
      "0.32727272727272727\n"
     ]
    }
   ],
   "source": [
    "# Вероятность, что 2 мяча белые\n",
    "\n",
    "# Вероятность, что из 2 мячей, взятых с одного ящика, один мяч белый (1 из 2 в одном ящике и 1 из 2 во втором ящике)\n",
    "event11 = def_combinations(7, 1)\n",
    "print(event11) \n",
    "event12 = def_combinations(3, 1)\n",
    "print(event12) \n",
    "\n",
    "white_ball = (event11 * event12) / def_combinations(10, 2)\n",
    "print(white_ball)\n",
    "\n",
    "event13 = def_combinations(9, 1)\n",
    "print(event13) \n",
    "event14 = def_combinations(2, 1)\n",
    "print(event14) \n",
    "\n",
    "white_ball2 = (event13 * event14) / def_combinations(11, 2)\n",
    "print(white_ball2)\n",
    "total1 = round(white_ball * white_ball2, 4)"
   ]
  },
  {
   "cell_type": "code",
   "execution_count": 15,
   "metadata": {},
   "outputs": [
    {
     "name": "stdout",
     "output_type": "stream",
     "text": [
      "21\n",
      "45\n",
      "0.4666666666666667\n",
      "1\n",
      "55\n",
      "0.01818181818181818\n"
     ]
    }
   ],
   "source": [
    "# Вероятность, что в первом ящике все 2 мяча белые, а во втором ни одного\n",
    "\n",
    "# Вытаскиваем только белые\n",
    "event15 = def_combinations(7, 2)\n",
    "print(event15)\n",
    "event16 = def_combinations(10, 2)\n",
    "print(event16)\n",
    "act1 = event15 / event16\n",
    "print(act1)\n",
    "\n",
    "#Вытаскиваем НЕ белые\n",
    "event17 = def_combinations(2, 2)\n",
    "print(event17)\n",
    "event18 = def_combinations(11, 2)\n",
    "print(event18)\n",
    "act2 = event17 / event18\n",
    "print(act2)\n",
    "total2 = round(act1 * act2, 4)"
   ]
  },
  {
   "cell_type": "code",
   "execution_count": 16,
   "metadata": {},
   "outputs": [
    {
     "name": "stdout",
     "output_type": "stream",
     "text": [
      "3\n",
      "45\n",
      "0.06666666666666667\n",
      "36\n",
      "55\n",
      "0.6545454545454545\n"
     ]
    }
   ],
   "source": [
    "# Вероятность, что в первом ящике из 2-х мячей ни одного белого, а во втором 2 из 2\n",
    "\n",
    "#Вытаскиваем НЕ белые\n",
    "event19 = def_combinations(3, 2)\n",
    "print(event19)\n",
    "event20 = def_combinations(10, 2)\n",
    "print(event20)\n",
    "act3 = event19 / event20\n",
    "print(act3)\n",
    "\n",
    "# Вытаскиваем только белые\n",
    "event21 = def_combinations(9, 2)\n",
    "print(event21)\n",
    "event22 = def_combinations(11, 2)\n",
    "print(event22)\n",
    "act4 = event21 / event22\n",
    "print(act4)\n",
    "total3 = round(act3 * act4, 4)"
   ]
  },
  {
   "cell_type": "code",
   "execution_count": 17,
   "metadata": {},
   "outputs": [
    {
     "name": "stdout",
     "output_type": "stream",
     "text": [
      "Вероятность вытащить 2 белых мяча составляет(%) 20.48\n"
     ]
    }
   ],
   "source": [
    "print(f\"Вероятность вытащить 2 белых мяча составляет(%) {(total1 + total2 + total3) * 100}\")"
   ]
  },
  {
   "cell_type": "code",
   "execution_count": 18,
   "metadata": {},
   "outputs": [
    {
     "name": "stdout",
     "output_type": "stream",
     "text": [
      "0.008484848484848484\n",
      "0.021818181818181816\n",
      "0.008484848484848484\n",
      "0.04363636363636363\n",
      "0.3054545454545455\n",
      "0.15272727272727274\n",
      "0.3054545454545455\n"
     ]
    },
    {
     "data": {
      "text/plain": [
       "0.9987879060606062"
      ]
     },
     "execution_count": 18,
     "metadata": {},
     "output_type": "execute_result"
    }
   ],
   "source": [
    "# Вероятность того, что хотя бы 1 мяч белый \n",
    "# 1 ---------------------------->\n",
    "# True False , False False\n",
    "eve1 = def_combinations(7, 1)\n",
    "eve2 = def_combinations(3, 1)\n",
    "white_bb = (eve1 * eve2) / def_combinations(10, 2)\n",
    "\n",
    "eve3 = def_combinations(2, 2)\n",
    "eve4 = def_combinations(11, 2)\n",
    "no_white_bb = eve3 / eve4\n",
    "\n",
    "subtotal1 = white_bb * no_white_bb\n",
    "print(subtotal1)\n",
    "# -------------------------------<\n",
    "\n",
    "# 2 ---------------------------->\n",
    "# False False , True False\n",
    "eve5 = def_combinations(3, 2)\n",
    "eve6 = def_combinations(10, 2)\n",
    "no_white_b2 = eve5 / eve6\n",
    "\n",
    "eve7 = def_combinations(9, 1)\n",
    "eve8 = def_combinations(2, 1)\n",
    "white_b2 = (eve7 * eve8) / def_combinations(11, 2)\n",
    "\n",
    "subtotal2 = no_white_b2 * white_b2\n",
    "print(subtotal2)\n",
    "# --------------------------------\n",
    "\n",
    "# 3 ----------------------------->\n",
    "# True True , False False\n",
    "eve9 = def_combinations(7, 2)\n",
    "eve10 = def_combinations(10, 2)\n",
    "white_b3 = eve9 / eve10\n",
    "\n",
    "eve11 = def_combinations(2, 2)\n",
    "eve12 = def_combinations(11, 2)\n",
    "no_white_b3 = eve11 / eve12\n",
    "\n",
    "subtotal3 = white_b3 * no_white_b3\n",
    "print(subtotal3)\n",
    "# --------------------------------<\n",
    "\n",
    "# 4 ------------------------------->\n",
    "# False False , True True\n",
    "eve13 = def_combinations(3, 2)\n",
    "eve14 = def_combinations(10, 2)\n",
    "no_white_b4 = eve13 / eve14\n",
    "\n",
    "eve15 = def_combinations(9, 2)\n",
    "eve16 = def_combinations(11, 2)\n",
    "white_b4 = eve15 / eve16\n",
    "\n",
    "subtotal4 = no_white_b4 * white_b4\n",
    "print(subtotal4)\n",
    "# ---------------------------------<\n",
    "\n",
    "# 5 ------------------------------>\n",
    "# True False , True True\n",
    "eve17 = def_combinations(7, 1)\n",
    "eve18 = def_combinations(3, 1)\n",
    "white_b_1 = (eve17 * eve18) / def_combinations(10, 2)\n",
    "\n",
    "eve19 = def_combinations(9, 2)\n",
    "eve20 = def_combinations(11, 2)\n",
    "white_b_2 = eve19 / eve20\n",
    "\n",
    "subtotal5 = white_b_1 * white_b_2\n",
    "print(subtotal5)\n",
    "# ---------------------------------<\n",
    "\n",
    "# 6 ------------------------------->\n",
    "# True True , True False \n",
    "eve21 = def_combinations(7, 2)\n",
    "eve22 = def_combinations(10, 2)\n",
    "white_b_2_2 = eve21 / eve22\n",
    "\n",
    "eve23 = def_combinations(9, 1)\n",
    "eve24 = def_combinations(2, 1)\n",
    "white_b2_1 = (eve23 * eve24) / def_combinations(11, 2)\n",
    "\n",
    "subtotal6 = white_b_2_2 * white_b2_1\n",
    "print(subtotal6)\n",
    "# --------------------------------<\n",
    "\n",
    "# 7 -------------------------------->\n",
    "# True True , True True\n",
    "eve25 = def_combinations(7, 2)\n",
    "eve26 = def_combinations(10, 2)\n",
    "white_7 = eve25 / eve26\n",
    "\n",
    "eve27 = def_combinations(9, 2)\n",
    "eve28 = def_combinations(11, 2)\n",
    "white_b7_b = eve27 / eve28\n",
    "\n",
    "subtotal7 = white_7 * white_b7_b\n",
    "print(subtotal7)\n",
    "# --------------------------------<\n",
    "\n",
    "# 8 -------------------------------->\n",
    "# True False , True False\n",
    "eve29 = def_combinations(7, 1)\n",
    "eve30 = def_combinations(3, 1)\n",
    "white_bal = (eve29 * eve30) / def_combinations(10, 2)\n",
    "\n",
    "eve31 = def_combinations(9, 1)\n",
    "eve32 = def_combinations(2, 1)\n",
    "white_bal2 = (eve31 * eve32) / def_combinations(11, 2)\n",
    "\n",
    "subtotal8 = round(white_bal * white_bal2, 7)\n",
    "\n",
    "\n",
    "result = subtotal1 + subtotal2 + subtotal3 + subtotal4 + subtotal5 + subtotal6 + subtotal7 + subtotal8\n",
    "result\n"
   ]
  },
  {
   "cell_type": "code",
   "execution_count": 26,
   "metadata": {},
   "outputs": [
    {
     "name": "stdout",
     "output_type": "stream",
     "text": [
      "0.0012121212121212121\n"
     ]
    },
    {
     "data": {
      "text/plain": [
       "1.0000000272727274"
      ]
     },
     "execution_count": 26,
     "metadata": {},
     "output_type": "execute_result"
    }
   ],
   "source": [
    "# Проведем проверку. Условие \"хотя бы один белый\" НЕ выполняется в единственном случае, когда вытащили все мячи НЕ белые.\n",
    "# False False , False False\n",
    "\n",
    "eve_f1 = def_combinations(3, 2)\n",
    "eve_f2 = def_combinations(10, 2)\n",
    "no_white_f1 = eve_f1 / eve_f2\n",
    "\n",
    "eve_f3 = def_combinations(2, 2)\n",
    "eve_f4 = def_combinations(11, 2)\n",
    "no_white_f2 = eve_f3 / eve_f4\n",
    "print((no_white_f1 * no_white_f2))\n",
    "\n",
    "result + (no_white_f1 * no_white_f2)"
   ]
  },
  {
   "cell_type": "code",
   "execution_count": 20,
   "metadata": {},
   "outputs": [
    {
     "data": {
      "text/plain": [
       "0.9987878787878788"
      ]
     },
     "execution_count": 20,
     "metadata": {},
     "output_type": "execute_result"
    }
   ],
   "source": [
    "1 - (no_white_f1 * no_white_f2)"
   ]
  },
  {
   "cell_type": "markdown",
   "metadata": {},
   "source": [
    "Ответ: вероятность вытащить хотя бы 1 белый мяч составляет 99.8%"
   ]
  },
  {
   "cell_type": "code",
   "execution_count": null,
   "metadata": {},
   "outputs": [],
   "source": []
  }
 ],
 "metadata": {
  "kernelspec": {
   "display_name": "Python 3",
   "language": "python",
   "name": "python3"
  },
  "language_info": {
   "codemirror_mode": {
    "name": "ipython",
    "version": 3
   },
   "file_extension": ".py",
   "mimetype": "text/x-python",
   "name": "python",
   "nbconvert_exporter": "python",
   "pygments_lexer": "ipython3",
   "version": "3.7.6"
  }
 },
 "nbformat": 4,
 "nbformat_minor": 4
}
