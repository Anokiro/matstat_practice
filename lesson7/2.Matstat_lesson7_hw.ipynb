{
 "cells": [
  {
   "cell_type": "markdown",
   "metadata": {},
   "source": [
    "## Урок 7"
   ]
  },
  {
   "cell_type": "markdown",
   "metadata": {},
   "source": [
    "### Многомерный статистический анализ. Линейная регрессия"
   ]
  },
  {
   "cell_type": "markdown",
   "metadata": {},
   "source": [
    "#### 1. Даны значения величины заработной платы заемщиков банка (zp) и значения их поведенческого кредитного скоринга (ks): zp = [35, 45, 190, 200, 40, 70, 54, 150, 120, 110], ks = [401, 574, 874, 919, 459, 739, 653, 902, 746, 832]. Используя математические операции, посчитать коэффициенты линейной регрессии, приняв за X заработную плату (то есть, zp - признак), а за y - значения скорингового балла (то есть, ks - целевая переменная). Произвести расчет как с использованием intercept, так и без."
   ]
  },
  {
   "cell_type": "markdown",
   "metadata": {},
   "source": [
    "$$y = a + bx$$\n",
    "\n",
    "$$b = \\frac{\\overline{yx} - \\overline{y} \\cdot {\\overline{x}}}{\\overline{x^2} - (\\overline{x})^2};$$\n",
    "\n",
    "$$a = \\overline{y} - b \\cdot {\\overline{x}}.$$"
   ]
  },
  {
   "cell_type": "code",
   "execution_count": 1,
   "metadata": {},
   "outputs": [],
   "source": [
    "import numpy as np\n",
    "x = np.array([35, 45, 190, 200, 40, 70, 54, 150, 120, 110])\n",
    "y = np.array([401, 574, 874, 919, 459, 739, 653, 902, 746, 832])"
   ]
  },
  {
   "cell_type": "markdown",
   "metadata": {},
   "source": [
    "а. С интерсептом"
   ]
  },
  {
   "cell_type": "code",
   "execution_count": 2,
   "metadata": {},
   "outputs": [
    {
     "data": {
      "text/plain": [
       "2.620538882402765"
      ]
     },
     "execution_count": 2,
     "metadata": {},
     "output_type": "execute_result"
    }
   ],
   "source": [
    "my_b = (np.mean(x * y) - np.mean(x) * np.mean(y)) / (np.mean(x**2) - np.mean(x) ** 2)\n",
    "my_b"
   ]
  },
  {
   "cell_type": "code",
   "execution_count": 4,
   "metadata": {},
   "outputs": [
    {
     "data": {
      "text/plain": [
       "444.1773573243596"
      ]
     },
     "execution_count": 4,
     "metadata": {},
     "output_type": "execute_result"
    }
   ],
   "source": [
    "my_a = np.mean(y) - my_b * np.mean(x)\n",
    "my_a"
   ]
  },
  {
   "cell_type": "code",
   "execution_count": 5,
   "metadata": {},
   "outputs": [
    {
     "data": {
      "text/plain": [
       "array([535.89621821, 562.10160703, 942.07974498, 968.2851338 ,\n",
       "       548.99891262, 627.61507909, 585.68645697, 837.25818968,\n",
       "       758.64202321, 732.43663439])"
      ]
     },
     "execution_count": 5,
     "metadata": {},
     "output_type": "execute_result"
    }
   ],
   "source": [
    "y_hat = my_a + my_b * x\n",
    "y_hat"
   ]
  },
  {
   "cell_type": "code",
   "execution_count": 6,
   "metadata": {},
   "outputs": [
    {
     "data": {
      "image/png": "[encoded data removed]",
      "text/plain": [
       "<Figure size 432x288 with 1 Axes>"
      ]
     },
     "metadata": {
      "needs_background": "light"
     },
     "output_type": "display_data"
    }
   ],
   "source": [
    "import matplotlib.pyplot as plt\n",
    "plt.scatter(x, y)\n",
    "plt.scatter(x, y_hat, marker='+')\n",
    "plt.grid()"
   ]
  },
  {
   "cell_type": "markdown",
   "metadata": {},
   "source": [
    "б. Без интерсепта"
   ]
  },
  {
   "cell_type": "markdown",
   "metadata": {},
   "source": [
    "$$ B = (X^T * X)^{-1} * X^T * Y$$"
   ]
  },
  {
   "cell_type": "code",
   "execution_count": 7,
   "metadata": {},
   "outputs": [],
   "source": [
    "my_X = x.reshape((10, 1))\n",
    "my_Y = y.reshape((10, 1))"
   ]
  },
  {
   "cell_type": "code",
   "execution_count": 8,
   "metadata": {},
   "outputs": [
    {
     "data": {
      "text/plain": [
       "array([[5.88982042]])"
      ]
     },
     "execution_count": 8,
     "metadata": {},
     "output_type": "execute_result"
    }
   ],
   "source": [
    "B = np.dot(np.linalg.inv(np.dot(my_X.T, my_X)), my_X.T @ my_Y)\n",
    "B"
   ]
  },
  {
   "cell_type": "markdown",
   "metadata": {},
   "source": [
    "#### 2. Посчитать коэффициент линейной регрессии при заработной плате (zp), используя градиентный спуск (без intercept)."
   ]
  },
  {
   "cell_type": "code",
   "execution_count": 11,
   "metadata": {},
   "outputs": [],
   "source": [
    "def mse_(B1, y=y, X=x, n=10):\n",
    "    return np.sum((B1 * X - y) ** 2) / n"
   ]
  },
  {
   "cell_type": "code",
   "execution_count": 14,
   "metadata": {},
   "outputs": [
    {
     "name": "stdout",
     "output_type": "stream",
     "text": [
      "Итерация № 0, B1 = 0.25952808, mse = 493237.7212546963\n",
      "Итерация № 100, B1 = 5.54537842245223, mse = 58151.31823171113\n",
      "Итерация № 200, B1 = 5.868748638669329, mse = 56522.97550129376\n",
      "Итерация № 300, B1 = 5.888531320728348, mse = 56516.88130936019\n",
      "Итерация № 400, B1 = 5.8897415574471985, mse = 56516.85850140053\n",
      "Итерация № 500, B1 = 5.889815595583751, mse = 56516.858416040064\n",
      "Итерация № 600, B1 = 5.889820124983314, mse = 56516.85841572062\n",
      "Итерация № 700, B1 = 5.889820402076462, mse = 56516.85841571941\n",
      "Итерация № 800, B1 = 5.88982041902807, mse = 56516.8584157194\n",
      "Итерация № 900, B1 = 5.889820420065112, mse = 56516.85841571941\n",
      "Итерация № 1000, B1 = 5.8898204201285544, mse = 56516.85841571941\n",
      "Итерация № 1100, B1 = 5.889820420132437, mse = 56516.85841571943\n",
      "Итерация № 1200, B1 = 5.889820420132673, mse = 56516.85841571943\n",
      "Итерация № 1300, B1 = 5.889820420132673, mse = 56516.85841571943\n",
      "Итерация № 1400, B1 = 5.889820420132673, mse = 56516.85841571943\n",
      "Итерация № 1500, B1 = 5.889820420132673, mse = 56516.85841571943\n",
      "Итерация № 1600, B1 = 5.889820420132673, mse = 56516.85841571943\n",
      "Итерация № 1700, B1 = 5.889820420132673, mse = 56516.85841571943\n",
      "Итерация № 1800, B1 = 5.889820420132673, mse = 56516.85841571943\n",
      "Итерация № 1900, B1 = 5.889820420132673, mse = 56516.85841571943\n"
     ]
    }
   ],
   "source": [
    "B1 = 0.1\n",
    "\n",
    "alpha = 1e-6\n",
    "\n",
    "for i in range(2000):\n",
    "    B1 -= alpha * (2 / len(x)) * np.sum((B1 * x - y) * x)\n",
    "    if i % 100 == 0:\n",
    "        print(f'Итерация № {i}, B1 = {B1}, mse = {mse_(B1)}')"
   ]
  },
  {
   "cell_type": "markdown",
   "metadata": {},
   "source": [
    "#### 3. В каких случаях для вычисления доверительных интервалов и проверки статистических гипотез используется таблица значений функции Лапласа, а в каких - таблица критических точек распределения Стьюдента? "
   ]
  },
  {
   "cell_type": "markdown",
   "metadata": {},
   "source": [
    "Таблица значений функции Лапласа используется в случаях, когда  известна 𝜎(cигма) генеральной совокупности,\n",
    "\n",
    "Таблица критических точек распределения Стьюдент используется, если не известна 𝜎(cигма) генеральной совокупности."
   ]
  },
  {
   "cell_type": "code",
   "execution_count": null,
   "metadata": {},
   "outputs": [],
   "source": []
  }
 ],
 "metadata": {
  "kernelspec": {
   "display_name": "Python 3",
   "language": "python",
   "name": "python3"
  },
  "language_info": {
   "codemirror_mode": {
    "name": "ipython",
    "version": 3
   },
   "file_extension": ".py",
   "mimetype": "text/x-python",
   "name": "python",
   "nbconvert_exporter": "python",
   "pygments_lexer": "ipython3",
   "version": "3.7.6"
  }
 },
 "nbformat": 4,
 "nbformat_minor": 4
}
