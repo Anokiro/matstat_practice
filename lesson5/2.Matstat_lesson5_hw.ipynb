{
 "cells": [
  {
   "cell_type": "markdown",
   "metadata": {},
   "source": [
    "## Урок 5"
   ]
  },
  {
   "cell_type": "markdown",
   "metadata": {},
   "source": [
    "### Проверка статистических гипотез. P-значения. Доверительные интервалы.\n",
    "\n",
    "### A/B-тестирование"
   ]
  },
  {
   "cell_type": "markdown",
   "metadata": {},
   "source": [
    "#### 1. Известно, что генеральная совокупность распределена нормально со средним квадратическим отклонением, равным 16. Найти доверительный интервал для оценки математического ожидания a с надежностью 0.95, если выборочная средняя M = 80, а объем выборки n = 256."
   ]
  },
  {
   "cell_type": "markdown",
   "metadata": {},
   "source": [
    "$$ \\overline{X} \\pm z_{\\alpha / 2} * \\frac{\\sigma}{\\sqrt{n}} $$ "
   ]
  },
  {
   "cell_type": "code",
   "execution_count": 1,
   "metadata": {},
   "outputs": [],
   "source": [
    "import numpy as np"
   ]
  },
  {
   "cell_type": "code",
   "execution_count": 2,
   "metadata": {},
   "outputs": [
    {
     "name": "stdout",
     "output_type": "stream",
     "text": [
      "Доверительный интервал (правая граница) с надежностью 0.95 = 81.96\n"
     ]
    }
   ],
   "source": [
    "# 1.96 выбираем по таблице нормального накопленного распределения (5/2 = 2.5)\n",
    "print(f\"Доверительный интервал (правая граница) с надежностью 0.95 = {80 + (1.96 * (16 / np.sqrt(256)))}\")"
   ]
  },
  {
   "cell_type": "code",
   "execution_count": 3,
   "metadata": {},
   "outputs": [
    {
     "name": "stdout",
     "output_type": "stream",
     "text": [
      "Доверительный интервал (левая граница) с надежностью 0.95 = 78.04\n"
     ]
    }
   ],
   "source": [
    "print(f\"Доверительный интервал (левая граница) с надежностью 0.95 = {80 - (1.96 * (16 / np.sqrt(256)))}\")\n"
   ]
  },
  {
   "cell_type": "markdown",
   "metadata": {},
   "source": [
    "#### 2. В результате 10 независимых измерений некоторой величины X, выполненных с одинаковой точностью, получены опытные данные: 6.9, 6.1, 6.2, 6.8, 7.5, 6.3, 6.4, 6.9, 6.7, 6.1  \n",
    "#### Предполагая, что результаты измерений подчинены нормальному закону распределения вероятностей, оценить истинное значение величины X при помощи доверительного интервала, покрывающего это значение с доверительной вероятностью 0,95."
   ]
  },
  {
   "cell_type": "markdown",
   "metadata": {},
   "source": [
    "$$ \\overline{X} \\pm t_{\\alpha / 2} * \\frac{\\sigma}{\\sqrt{n}} $$ "
   ]
  },
  {
   "cell_type": "code",
   "execution_count": 4,
   "metadata": {},
   "outputs": [
    {
     "data": {
      "text/plain": [
       "6.590000000000001"
      ]
     },
     "execution_count": 4,
     "metadata": {},
     "output_type": "execute_result"
    }
   ],
   "source": [
    "my_list = [6.9, 6.1, 6.2, 6.8, 7.5, 6.3, 6.4, 6.9, 6.7, 6.1]\n",
    "my_mean = np.mean(my_list)\n",
    "my_mean"
   ]
  },
  {
   "cell_type": "code",
   "execution_count": 5,
   "metadata": {},
   "outputs": [
    {
     "name": "stdout",
     "output_type": "stream",
     "text": [
      "Доверительный интервал (правая граница) с давер.вероятностью 0.95 = 6.912461744087575\n"
     ]
    }
   ],
   "source": [
    "# 2.262 по таблице Стьюдента (10 - 1 = 9 степень свободы(n-1))\n",
    "print(f\"Доверительный интервал (правая граница) с давер.вероятностью 0.95 = {my_mean + (2.262 * (np.std(my_list, ddof=1) / np.sqrt(len(my_list))))}\")"
   ]
  },
  {
   "cell_type": "code",
   "execution_count": 6,
   "metadata": {},
   "outputs": [
    {
     "name": "stdout",
     "output_type": "stream",
     "text": [
      "Доверительный интервал (левая граница) с давер.вероятностью 0.95 = 6.267538255912426\n"
     ]
    }
   ],
   "source": [
    "print(f\"Доверительный интервал (левая граница) с давер.вероятностью 0.95 = {my_mean - (2.262 * (np.std(my_list, ddof=1) / np.sqrt(len(my_list))))}\")"
   ]
  },
  {
   "cell_type": "markdown",
   "metadata": {},
   "source": [
    "#### 3. Решать через тест гипотезы\n",
    "\n",
    "Утверждается, что шарики для подшипников, изготовленные автоматическим станком, имеют средний диаметр 17 мм. Используя односторонний критерий с α=0,05, проверить эту гипотезу, если в выборке из n=100 шариков средний диаметр оказался равным 17.5 мм, а дисперсия известна и равна 4 кв. мм."
   ]
  },
  {
   "cell_type": "markdown",
   "metadata": {},
   "source": [
    "$$ Z_Н = \\frac{\\overline{X} - \\mu_0}{ \\frac{\\sigma}{\\sqrt{n}} } $$"
   ]
  },
  {
   "cell_type": "code",
   "execution_count": 7,
   "metadata": {},
   "outputs": [
    {
     "name": "stdout",
     "output_type": "stream",
     "text": [
      "0.2\n",
      "2.5\n"
     ]
    }
   ],
   "source": [
    "h_0 = 17\n",
    "h_1 = 17.5\n",
    "D = 4\n",
    "# Находим сигму для выборки\n",
    "SE = np.sqrt(D) / np.sqrt(100)\n",
    "print(SE)\n",
    "# найдем расстояние в сигмах ->\n",
    "range_sigma = (h_1 - h_0) / SE\n",
    "print(range_sigma)\n",
    "\n",
    "z_table = 1.65"
   ]
  },
  {
   "cell_type": "markdown",
   "metadata": {},
   "source": [
    "$$ Z_Н = \\frac{|17 - 17.5|}{ \\frac{\\sqrt{4}}{\\sqrt{100}} } $$"
   ]
  },
  {
   "cell_type": "markdown",
   "metadata": {},
   "source": [
    "Ответ: Верна альтернативная гипотеза на уровне значимости 5%, поскольку 2.5 > 1.65 "
   ]
  },
  {
   "cell_type": "markdown",
   "metadata": {},
   "source": [
    "#### 4.Продавец утверждает, что средний вес пачки печенья составляет 200 г. Из партии извлечена выборка из 10 пачек. Вес каждой пачки составляет: 202, 203, 199, 197, 195, 201, 200, 204, 194, 190. Известно, что их веса распределены нормально. Верно ли утверждение продавца, если учитывать, что доверительная вероятность равна 99%?"
   ]
  },
  {
   "cell_type": "code",
   "execution_count": 8,
   "metadata": {},
   "outputs": [],
   "source": [
    "h_0 = 200\n",
    "n = 10\n",
    "my_list = [202, 203, 199, 197, 195, 201, 200, 204, 194, 190]\n",
    "t_table_0 = - 3.25\n",
    "t_table_1 = 3.25\n",
    "\n",
    "# условие: двусторонняя проверка, альтернативная гипотеза ню_0 != ню_1"
   ]
  },
  {
   "cell_type": "code",
   "execution_count": 9,
   "metadata": {},
   "outputs": [
    {
     "data": {
      "text/plain": [
       "4.453463071962462"
      ]
     },
     "execution_count": 9,
     "metadata": {},
     "output_type": "execute_result"
    }
   ],
   "source": [
    "sigma = np.sqrt(np.var(my_list, ddof=1))\n",
    "sigma"
   ]
  },
  {
   "cell_type": "code",
   "execution_count": 10,
   "metadata": {},
   "outputs": [
    {
     "data": {
      "text/plain": [
       "198.5"
      ]
     },
     "execution_count": 10,
     "metadata": {},
     "output_type": "execute_result"
    }
   ],
   "source": [
    "my_mean = np.mean(my_list)\n",
    "my_mean"
   ]
  },
  {
   "cell_type": "code",
   "execution_count": 11,
   "metadata": {},
   "outputs": [
    {
     "data": {
      "text/plain": [
       "-1.0651074037450896"
      ]
     },
     "execution_count": 11,
     "metadata": {},
     "output_type": "execute_result"
    }
   ],
   "source": [
    "(my_mean - h_0) / (sigma / np.sqrt(n))"
   ]
  },
  {
   "cell_type": "markdown",
   "metadata": {},
   "source": [
    "Ответ: Верна нулевая гипотеза(утверждение продавца) на уровне значимости 99%, поскольку -1,065 > -3.25 "
   ]
  },
  {
   "cell_type": "code",
   "execution_count": null,
   "metadata": {},
   "outputs": [],
   "source": []
  },
  {
   "cell_type": "code",
   "execution_count": null,
   "metadata": {},
   "outputs": [],
   "source": []
  }
 ],
 "metadata": {
  "kernelspec": {
   "display_name": "Python 3",
   "language": "python",
   "name": "python3"
  },
  "language_info": {
   "codemirror_mode": {
    "name": "ipython",
    "version": 3
   },
   "file_extension": ".py",
   "mimetype": "text/x-python",
   "name": "python",
   "nbconvert_exporter": "python",
   "pygments_lexer": "ipython3",
   "version": "3.7.6"
  }
 },
 "nbformat": 4,
 "nbformat_minor": 4
}
